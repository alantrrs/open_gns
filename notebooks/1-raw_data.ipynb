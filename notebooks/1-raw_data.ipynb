{
 "cells": [
  {
   "cell_type": "markdown",
   "metadata": {},
   "source": [
    "# Run the simulation in Flex to generate the RAW data\n",
    "Seems like the material is given by the particle's index. e.g. the first 64 particles are solid and the rest are the fluid.\n",
    "Looks like we can tell by the phase.\n",
    "\n",
    "\n",
    "- Save the fixed walls\n",
    "For each time step:\n",
    "- save the positions of particles and their materials\n",
    "# Parameters\n",
    "Parameters for BoxBath:\n",
    "- Trajectory length: 150\n",
    "- Number of rollouts: 2700 train, 150 Validation, 150 Test"
   ]
  },
  {
   "cell_type": "code",
   "execution_count": null,
   "metadata": {},
   "outputs": [],
   "source": [
    "import h5py\n",
    "import numpy as np\n",
    "import pyflex\n",
    "\"\"\" Planes\n",
    "    (Vec4&)g_params.planes[0] = Vec4(up.x, up.y, up.z, 0.0f);\n",
    "    (Vec4&)g_params.planes[1] = Vec4(0.0f, 0.0f, 1.0f, -g_sceneLower.z);\n",
    "    (Vec4&)g_params.planes[2] = Vec4(1.0f, 0.0f, 0.0f, -g_sceneLower.x);\n",
    "    (Vec4&)g_params.planes[3] = Vec4(-1.0f, 0.0f, 0.0f, g_sceneUpper.x);\n",
    "    (Vec4&)g_params.planes[4] = Vec4(0.0f, 0.0f, -1.0f, g_sceneUpper.z);\n",
    "    (Vec4&)g_params.planes[5] = Vec4(0.0f, -1.0f, 0.0f, g_sceneUpper.y);\n",
    "\"\"\"\n",
    "time_steps = 150\n",
    "num_rollouts = 3000\n",
    "f = h5py.File('./box_bath.hdf5', 'w')\n",
    "\n",
    "pyflex.init()\n",
    "\n",
    "for rollout in range(num_rollouts):\n",
    "    print(f'Rollout {rollout}')\n",
    "    # Set scene\n",
    "    scene_params = np.zeros(1)\n",
    "    pyflex.set_scene(1, scene_params, 0)\n",
    "    num_rigid_positions = pyflex.get_n_rigidPositions()\n",
    "    upper_bound = pyflex.get_scene_upper()\n",
    "    lower_bound = pyflex.get_scene_lower()\n",
    "    print(num_rigid_positions)\n",
    "    print(upper_bound)\n",
    "    print(lower_bound)\n",
    "    # TODO: Do we need to clip the initial few steps\n",
    "    num_particles = pyflex.get_n_particles()\n",
    "    phases= np.zeros((time_steps, num_particles), dtype=np.float32)\n",
    "    positions = np.zeros((time_steps, num_particles, 3), dtype=np.float32)\n",
    "    for step in range(time_steps):\n",
    "        phases[step] = pyflex.get_phases()\n",
    "        positions[step] = pyflex.get_positions().reshape(-1,4)[:,:3]\n",
    "        pyflex.step()\n",
    "    f.create_dataset(f'rollouts/{rollout}/positions', data=positions, compression='gzip')\n",
    "    f.create_dataset(f'rollouts/{rollout}/phases', data=phases, compression='gzip')\n",
    "pyflex.clean()\n",
    "f.close()"
   ]
  }
 ],
 "metadata": {
  "kernelspec": {
   "display_name": "Python 3",
   "language": "python",
   "name": "python3"
  },
  "language_info": {
   "codemirror_mode": {
    "name": "ipython",
    "version": 3
   },
   "file_extension": ".py",
   "mimetype": "text/x-python",
   "name": "python",
   "nbconvert_exporter": "python",
   "pygments_lexer": "ipython3",
   "version": "3.6.5"
  }
 },
 "nbformat": 4,
 "nbformat_minor": 4
}
