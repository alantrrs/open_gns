{
 "cells": [
  {
   "cell_type": "markdown",
   "metadata": {},
   "source": [
    "# Training\n",
    "\n",
    "## Loss function\n",
    "The loss function is the $L_2$ loss on the prediceted per-particle accelerations. The model parameters are optimizied over the loss using the Adam optimizer, using a minibatch size of 2.\n",
    "\n",
    "\n"
   ]
  },
  {
   "cell_type": "code",
   "execution_count": 1,
   "metadata": {},
   "outputs": [
    {
     "name": "stdout",
     "output_type": "stream",
     "text": [
      "/workspace\n"
     ]
    }
   ],
   "source": [
    "#setup\n",
    "%load_ext autoreload\n",
    "%cd \"..\""
   ]
  },
  {
   "cell_type": "code",
   "execution_count": 2,
   "metadata": {},
   "outputs": [
    {
     "name": "stdout",
     "output_type": "stream",
     "text": [
      "Requirement already satisfied: livelossplot in /home/user/miniconda/envs/py36/lib/python3.6/site-packages (0.5.0)\n",
      "Requirement already satisfied: ipython in /home/user/miniconda/envs/py36/lib/python3.6/site-packages (from livelossplot) (7.13.0)\n",
      "Requirement already satisfied: matplotlib; python_version >= \"3.6\" in /home/user/miniconda/envs/py36/lib/python3.6/site-packages (from livelossplot) (3.2.0)\n",
      "Requirement already satisfied: pickleshare in /home/user/miniconda/envs/py36/lib/python3.6/site-packages (from ipython->livelossplot) (0.7.5)\n",
      "Requirement already satisfied: setuptools>=18.5 in /home/user/miniconda/envs/py36/lib/python3.6/site-packages (from ipython->livelossplot) (46.0.0.post20200309)\n",
      "Requirement already satisfied: jedi>=0.10 in /home/user/miniconda/envs/py36/lib/python3.6/site-packages (from ipython->livelossplot) (0.16.0)\n",
      "Requirement already satisfied: traitlets>=4.2 in /home/user/miniconda/envs/py36/lib/python3.6/site-packages (from ipython->livelossplot) (4.3.3)\n",
      "Requirement already satisfied: prompt-toolkit!=3.0.0,!=3.0.1,<3.1.0,>=2.0.0 in /home/user/miniconda/envs/py36/lib/python3.6/site-packages (from ipython->livelossplot) (3.0.4)\n",
      "Requirement already satisfied: pexpect; sys_platform != \"win32\" in /home/user/miniconda/envs/py36/lib/python3.6/site-packages (from ipython->livelossplot) (4.8.0)\n",
      "Requirement already satisfied: backcall in /home/user/miniconda/envs/py36/lib/python3.6/site-packages (from ipython->livelossplot) (0.1.0)\n",
      "Requirement already satisfied: decorator in /home/user/miniconda/envs/py36/lib/python3.6/site-packages (from ipython->livelossplot) (4.4.2)\n",
      "Requirement already satisfied: pygments in /home/user/miniconda/envs/py36/lib/python3.6/site-packages (from ipython->livelossplot) (2.6.1)\n",
      "Requirement already satisfied: kiwisolver>=1.0.1 in /home/user/miniconda/envs/py36/lib/python3.6/site-packages (from matplotlib; python_version >= \"3.6\"->livelossplot) (1.1.0)\n",
      "Requirement already satisfied: cycler>=0.10 in /home/user/miniconda/envs/py36/lib/python3.6/site-packages (from matplotlib; python_version >= \"3.6\"->livelossplot) (0.10.0)\n",
      "Requirement already satisfied: numpy>=1.11 in /home/user/miniconda/envs/py36/lib/python3.6/site-packages (from matplotlib; python_version >= \"3.6\"->livelossplot) (1.18.1)\n",
      "Requirement already satisfied: python-dateutil>=2.1 in /home/user/miniconda/envs/py36/lib/python3.6/site-packages (from matplotlib; python_version >= \"3.6\"->livelossplot) (2.8.1)\n",
      "Requirement already satisfied: pyparsing!=2.0.4,!=2.1.2,!=2.1.6,>=2.0.1 in /home/user/miniconda/envs/py36/lib/python3.6/site-packages (from matplotlib; python_version >= \"3.6\"->livelossplot) (2.4.6)\n",
      "Requirement already satisfied: parso>=0.5.2 in /home/user/miniconda/envs/py36/lib/python3.6/site-packages (from jedi>=0.10->ipython->livelossplot) (0.6.2)\n",
      "Requirement already satisfied: ipython-genutils in /home/user/miniconda/envs/py36/lib/python3.6/site-packages (from traitlets>=4.2->ipython->livelossplot) (0.2.0)\n",
      "Requirement already satisfied: six in /home/user/miniconda/envs/py36/lib/python3.6/site-packages (from traitlets>=4.2->ipython->livelossplot) (1.14.0)\n",
      "Requirement already satisfied: wcwidth in /home/user/miniconda/envs/py36/lib/python3.6/site-packages (from prompt-toolkit!=3.0.0,!=3.0.1,<3.1.0,>=2.0.0->ipython->livelossplot) (0.1.8)\n",
      "Requirement already satisfied: ptyprocess>=0.5 in /home/user/miniconda/envs/py36/lib/python3.6/site-packages (from pexpect; sys_platform != \"win32\"->ipython->livelossplot) (0.6.0)\n",
      "Requirement already satisfied: tqdm in /home/user/miniconda/envs/py36/lib/python3.6/site-packages (4.46.0)\n"
     ]
    }
   ],
   "source": [
    "!pip install livelossplot\n",
    "!pip install tqdm"
   ]
  },
  {
   "cell_type": "code",
   "execution_count": 3,
   "metadata": {},
   "outputs": [
    {
     "data": {
      "image/png": "[encoded data removed]",
      "text/plain": [
       "<Figure size 864x576 with 1 Axes>"
      ]
     },
     "metadata": {
      "needs_background": "light"
     },
     "output_type": "display_data"
    },
    {
     "name": "stderr",
     "output_type": "stream",
     "text": [
      "  0%|          | 3/6721 [00:00<04:23, 25.49it/s]"
     ]
    },
    {
     "name": "stdout",
     "output_type": "stream",
     "text": [
      "log loss\n",
      "\ttraining         \t (min:    0.000, max:    0.001, cur:    0.000)\n",
      "\tvalidation       \t (min:    0.000, max:    0.000, cur:    0.000)\n"
     ]
    },
    {
     "name": "stderr",
     "output_type": "stream",
     "text": [
      "100%|██████████| 6721/6721 [04:27<00:00, 25.08it/s]\n",
      " 51%|█████     | 438/858 [00:14<00:14, 29.20it/s]\n"
     ]
    },
    {
     "ename": "KeyboardInterrupt",
     "evalue": "",
     "output_type": "error",
     "traceback": [
      "\u001b[0;31m---------------------------------------------------------------------------\u001b[0m",
      "\u001b[0;31mKeyboardInterrupt\u001b[0m                         Traceback (most recent call last)",
      "\u001b[0;32m<ipython-input-3-3b7f891eddcb>\u001b[0m in \u001b[0;36m<module>\u001b[0;34m\u001b[0m\n\u001b[1;32m     41\u001b[0m                 \u001b[0mloss\u001b[0m\u001b[0;34m.\u001b[0m\u001b[0mbackward\u001b[0m\u001b[0;34m(\u001b[0m\u001b[0;34m)\u001b[0m\u001b[0;34m\u001b[0m\u001b[0m\n\u001b[1;32m     42\u001b[0m                 \u001b[0moptimizer\u001b[0m\u001b[0;34m.\u001b[0m\u001b[0mstep\u001b[0m\u001b[0;34m(\u001b[0m\u001b[0;34m)\u001b[0m\u001b[0;34m\u001b[0m\u001b[0m\n\u001b[0;32m---> 43\u001b[0;31m             \u001b[0mrunning_loss\u001b[0m \u001b[0;34m+=\u001b[0m \u001b[0mloss\u001b[0m\u001b[0;34m.\u001b[0m\u001b[0mitem\u001b[0m\u001b[0;34m(\u001b[0m\u001b[0;34m)\u001b[0m\u001b[0;34m*\u001b[0m\u001b[0mdata\u001b[0m\u001b[0;34m.\u001b[0m\u001b[0mnum_graphs\u001b[0m\u001b[0;34m\u001b[0m\u001b[0m\n\u001b[0m\u001b[1;32m     44\u001b[0m         \u001b[0;31m# Log epoch loss\u001b[0m\u001b[0;34m\u001b[0m\u001b[0;34m\u001b[0m\u001b[0m\n\u001b[1;32m     45\u001b[0m         \u001b[0mepoch_loss\u001b[0m \u001b[0;34m=\u001b[0m \u001b[0mrunning_loss\u001b[0m\u001b[0;34m/\u001b[0m\u001b[0mlen\u001b[0m\u001b[0;34m(\u001b[0m\u001b[0mdataloaders\u001b[0m\u001b[0;34m[\u001b[0m\u001b[0mphase\u001b[0m\u001b[0;34m]\u001b[0m\u001b[0;34m.\u001b[0m\u001b[0mdataset\u001b[0m\u001b[0;34m)\u001b[0m\u001b[0;34m\u001b[0m\u001b[0m\n",
      "\u001b[0;31mKeyboardInterrupt\u001b[0m: "
     ]
    }
   ],
   "source": [
    "%autoreload 2\n",
    "# Training loop\n",
    "import torch\n",
    "from torch.optim import Adam\n",
    "from torch.nn import MSELoss\n",
    "from open_gns.models import EncodeProcessDecode\n",
    "from open_gns.dataset import GNSDataset\n",
    "from torch_geometric.data import DataLoader\n",
    "from livelossplot import PlotLosses\n",
    "from tqdm import tqdm\n",
    "\n",
    "device = torch.device('cuda' if torch.cuda.is_available() else 'cpu')\n",
    "dataset_train = GNSDataset('./notebooks')\n",
    "dataset_val = GNSDataset('./notebooks', split='validation')\n",
    "dataloaders = {\n",
    "    'train': DataLoader(dataset_train, batch_size=2, shuffle=True),\n",
    "    'validation': DataLoader(dataset_val, batch_size=2, shuffle=False)\n",
    "}\n",
    "input_size = dataset_train.num_node_features\n",
    "model = EncodeProcessDecode(input_size).to(device)\n",
    "\n",
    "\n",
    "optimizer = Adam(model.parameters(), lr=0.001)\n",
    "mse = MSELoss()\n",
    "liveloss = PlotLosses()\n",
    "\n",
    "for epoch in range(10):\n",
    "    logs = {}\n",
    "    for phase in ['train', 'validation']:\n",
    "        if phase == 'train':\n",
    "            model.train()\n",
    "        else:\n",
    "            model.eval()\n",
    "        running_loss = 0.0\n",
    "        for i, data in enumerate(tqdm(dataloaders[phase])):\n",
    "            data = data.to(device)\n",
    "            y_pred = model(data.x, data.edge_index)\n",
    "            loss = mse(y_pred, data.y)\n",
    "            if phase == 'train':\n",
    "                optimizer.zero_grad()\n",
    "                loss.backward()\n",
    "                optimizer.step()\n",
    "            running_loss += loss.item()*data.num_graphs\n",
    "        # Log epoch loss\n",
    "        epoch_loss = running_loss/len(dataloaders[phase].dataset)\n",
    "        label = 'log loss' if phase == 'train' else 'val_log loss'\n",
    "        logs[label] = epoch_loss\n",
    "        # Save checkpoint\n",
    "        if phase == 'train':\n",
    "            torch.save({\n",
    "            'epoch': epoch,\n",
    "            'model_state_dict': model.state_dict(),\n",
    "            'optimizer_state_dict': optimizer.state_dict(),\n",
    "            'loss': loss,\n",
    "            }, f'checkpoint_{epoch}_{epoch_loss}.pt')\n",
    "    liveloss.update(logs)\n",
    "    liveloss.send()\n"
   ]
  }
 ],
 "metadata": {
  "kernelspec": {
   "display_name": "Python 3",
   "language": "python",
   "name": "python3"
  },
  "language_info": {
   "codemirror_mode": {
    "name": "ipython",
    "version": 3
   },
   "file_extension": ".py",
   "mimetype": "text/x-python",
   "name": "python",
   "nbconvert_exporter": "python",
   "pygments_lexer": "ipython3",
   "version": "3.6.5"
  }
 },
 "nbformat": 4,
 "nbformat_minor": 4
}
