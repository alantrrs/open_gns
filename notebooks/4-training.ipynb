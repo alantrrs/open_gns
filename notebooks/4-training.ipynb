{
 "cells": [
  {
   "cell_type": "markdown",
   "metadata": {},
   "source": [
    "# Training\n",
    "\n",
    "## Loss function\n",
    "The loss function is the $L_2$ loss on the prediceted per-particle accelerations. The model parameters are optimizied over the loss using the Adam optimizer, using a minibatch size of 2.\n",
    "\n",
    "\n"
   ]
  },
  {
   "cell_type": "code",
   "execution_count": null,
   "metadata": {},
   "outputs": [],
   "source": [
    "#setup\n",
    "%load_ext autoreload\n",
    "%cd \"..\""
   ]
  },
  {
   "cell_type": "code",
   "execution_count": null,
   "metadata": {},
   "outputs": [],
   "source": [
    "%autoreload 2\n",
    "# Training loop\n",
    "from torch.optim import Adam\n",
    "from torch.nn import MSELoss\n",
    "from open_gns.models import EncodeProcessDecode\n",
    "from open_gns.dataset import GNSDataset\n",
    "from torch_geometric.data import DataLoader\n",
    "\n",
    "\n",
    "dataset = GNSDataset('./notebooks')\n",
    "dataloader = DataLoader(dataset, batch_size=2, suffle=True)\n",
    "input_size = dataset.num_node_features\n",
    "gns = EncodeProcessDecode(input_size)\n",
    "\n",
    "optimizer = Adam(gns.parameters(), lr=0.001)\n",
    "mse = MSELoss()\n",
    "\n",
    "for i in range(100):\n",
    "    data = dataset[i]\n",
    "    y_pred = gns(data.x, data.edge_index)\n",
    "    loss = mse(y_pred, data.y)\n",
    "    print(loss.item())\n",
    "    optimizer.zero_grad()\n",
    "    loss.backward()\n",
    "    optimizer.step()\n",
    "    "
   ]
  }
 ],
 "metadata": {
  "kernelspec": {
   "display_name": "Python 3",
   "language": "python",
   "name": "python3"
  },
  "language_info": {
   "codemirror_mode": {
    "name": "ipython",
    "version": 3
   },
   "file_extension": ".py",
   "mimetype": "text/x-python",
   "name": "python",
   "nbconvert_exporter": "python",
   "pygments_lexer": "ipython3",
   "version": "3.6.5"
  }
 },
 "nbformat": 4,
 "nbformat_minor": 4
}
