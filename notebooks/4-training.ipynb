{
 "cells": [
  {
   "cell_type": "markdown",
   "metadata": {},
   "source": [
    "# Training\n",
    "\n",
    "## Loss function\n",
    "The loss function is the $L_2$ loss on the prediceted per-particle accelerations. The model parameters are optimizied over the loss using the Adam optimizer, using a minibatch size of 2.\n",
    "\n",
    "\n"
   ]
  },
  {
   "cell_type": "code",
   "execution_count": null,
   "metadata": {},
   "outputs": [],
   "source": [
    "#setup\n",
    "%load_ext autoreload\n",
    "%cd \"..\""
   ]
  },
  {
   "cell_type": "code",
   "execution_count": null,
   "metadata": {},
   "outputs": [],
   "source": [
    "!pip install livelossplot"
   ]
  },
  {
   "cell_type": "code",
   "execution_count": null,
   "metadata": {},
   "outputs": [],
   "source": [
    "%autoreload 2\n",
    "# Training loop\n",
    "import torch\n",
    "from torch.optim import Adam\n",
    "from torch.nn import MSELoss\n",
    "from open_gns.models import EncodeProcessDecode\n",
    "from open_gns.dataset import GNSDataset\n",
    "from torch_geometric.data import DataLoader\n",
    "from livelossplot import PlotLosses\n",
    "\n",
    "\n",
    "device = torch.device('cuda' if torch.cuda.is_available() else 'cpu')\n",
    "dataset_train = GNSDataset('./notebooks')\n",
    "dataset_val = GNSDataset('./notebooks', split='validation')\n",
    "dataloaders = {\n",
    "    'train': DataLoader(dataset_train, batch_size=2, shuffle=True),\n",
    "    'validation': DataLoader(dataset_val, batch_size=2, shuffle=False)\n",
    "}\n",
    "input_size = dataset.num_node_features\n",
    "gns = EncodeProcessDecode(input_size).to(device)\n",
    "\n",
    "\n",
    "optimizer = Adam(gns.parameters(), lr=0.001)\n",
    "mse = MSELoss()\n",
    "liveloss = PlotLosses()\n",
    "\n",
    "for epoch in range(10):\n",
    "    logs = {}\n",
    "    for phase in ['train', 'validation']:\n",
    "        if phase == 'train':\n",
    "            gns.train()\n",
    "        else:\n",
    "            gns.eval()\n",
    "        running_loss = 0.0\n",
    "        for i, data in enumerate(dataloaders[phase]):\n",
    "            data = data.to(device)\n",
    "            y_pred = gns(data.x, data.edge_index)\n",
    "            loss = mse(y_pred, data.y)\n",
    "            if phase == 'train':\n",
    "                optimizer.zero_grad()\n",
    "                loss.backward()\n",
    "                optimizer.step()\n",
    "            running_loss += loss.item()*data.num_graphs\n",
    "        epoch_loss = running_loss/len(dataloaders[phase].dataset)\n",
    "        label = 'log loss' if phase == 'train' else 'val_log loss'\n",
    "        logs[label] = epoch_loss\n",
    "    liveloss.update(logs)\n",
    "    liveloss.send()\n"
   ]
  },
  {
   "cell_type": "code",
   "execution_count": null,
   "metadata": {},
   "outputs": [],
   "source": [
    "len(dataloader.dataset)\n",
    "print(device)"
   ]
  }
 ],
 "metadata": {
  "kernelspec": {
   "display_name": "Python 3",
   "language": "python",
   "name": "python3"
  },
  "language_info": {
   "codemirror_mode": {
    "name": "ipython",
    "version": 3
   },
   "file_extension": ".py",
   "mimetype": "text/x-python",
   "name": "python",
   "nbconvert_exporter": "python",
   "pygments_lexer": "ipython3",
   "version": "3.6.5"
  }
 },
 "nbformat": 4,
 "nbformat_minor": 4
}
