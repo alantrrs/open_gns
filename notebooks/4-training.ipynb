{
 "cells": [
  {
   "cell_type": "markdown",
   "metadata": {},
   "source": [
    "# Training\n",
    "\n",
    "## Loss function\n",
    "The loss function is the $L_2$ loss on the prediceted per-particle accelerations. The model parameters are optimizied over the loss using the Adam optimizer, using a minibatch size of 2.\n",
    "\n",
    "\n",
    "## Noise\n",
    "Because the models take as input a sequence of states (positions and velocities), we draw independent samples $\\sim{N}(0, \\sigma_v=0.0003)$, for each input state, particle and spatial dimension, before each training step. We accumulate them across time as a random walk, and use this to perturb the stack of input velocities. Based on the updated velocities, we then adjust the position features, such that $\\dot{p}^t\\equiv p^t-p^{t-1}$ is maintained, for consistency.\n",
    "\n",
    "\n",
    "## Normalization\n",
    "All inputs and targets are normalized to zero mean and unit variance during training. Instead of using moving averages, which could shift in cycles during training, we build exact mean and variance for all of the input and target particle features seen up to the current training step $l$, by accumulating the sum, the sum of the squares and the total particle count. The statistics are computed after noise is applied to the inputs.\n",
    "\n",
    "\n"
   ]
  },
  {
   "cell_type": "code",
   "execution_count": 1,
   "metadata": {},
   "outputs": [
    {
     "name": "stdout",
     "output_type": "stream",
     "text": [
      "/workspace\n"
     ]
    }
   ],
   "source": [
    "#setup\n",
    "%load_ext autoreload\n",
    "%cd \"/workspace\""
   ]
  },
  {
   "cell_type": "code",
   "execution_count": 2,
   "metadata": {},
   "outputs": [
    {
     "name": "stdout",
     "output_type": "stream",
     "text": [
      "Collecting livelossplot\n",
      "  Downloading livelossplot-0.5.1-py3-none-any.whl (28 kB)\n",
      "Requirement already satisfied: ipython in /home/user/miniconda/envs/py36/lib/python3.6/site-packages (from livelossplot) (7.13.0)\n",
      "Requirement already satisfied: matplotlib; python_version >= \"3.6\" in /home/user/miniconda/envs/py36/lib/python3.6/site-packages (from livelossplot) (3.2.0)\n",
      "Collecting bokeh; python_version >= \"3.6\"\n",
      "  Downloading bokeh-2.1.1.tar.gz (19.3 MB)\n",
      "\u001b[K     |################################| 19.3 MB 8.1 MB/s eta 0:00:01\n",
      "\u001b[?25hRequirement already satisfied: jedi>=0.10 in /home/user/miniconda/envs/py36/lib/python3.6/site-packages (from ipython->livelossplot) (0.16.0)\n",
      "Requirement already satisfied: pickleshare in /home/user/miniconda/envs/py36/lib/python3.6/site-packages (from ipython->livelossplot) (0.7.5)\n",
      "Requirement already satisfied: traitlets>=4.2 in /home/user/miniconda/envs/py36/lib/python3.6/site-packages (from ipython->livelossplot) (4.3.3)\n",
      "Requirement already satisfied: setuptools>=18.5 in /home/user/miniconda/envs/py36/lib/python3.6/site-packages (from ipython->livelossplot) (46.0.0.post20200309)\n",
      "Requirement already satisfied: decorator in /home/user/miniconda/envs/py36/lib/python3.6/site-packages (from ipython->livelossplot) (4.4.2)\n",
      "Requirement already satisfied: prompt-toolkit!=3.0.0,!=3.0.1,<3.1.0,>=2.0.0 in /home/user/miniconda/envs/py36/lib/python3.6/site-packages (from ipython->livelossplot) (3.0.4)\n",
      "Requirement already satisfied: pexpect; sys_platform != \"win32\" in /home/user/miniconda/envs/py36/lib/python3.6/site-packages (from ipython->livelossplot) (4.8.0)\n",
      "Requirement already satisfied: backcall in /home/user/miniconda/envs/py36/lib/python3.6/site-packages (from ipython->livelossplot) (0.1.0)\n",
      "Requirement already satisfied: pygments in /home/user/miniconda/envs/py36/lib/python3.6/site-packages (from ipython->livelossplot) (2.6.1)\n",
      "Requirement already satisfied: kiwisolver>=1.0.1 in /home/user/miniconda/envs/py36/lib/python3.6/site-packages (from matplotlib; python_version >= \"3.6\"->livelossplot) (1.1.0)\n",
      "Requirement already satisfied: python-dateutil>=2.1 in /home/user/miniconda/envs/py36/lib/python3.6/site-packages (from matplotlib; python_version >= \"3.6\"->livelossplot) (2.8.1)\n",
      "Requirement already satisfied: cycler>=0.10 in /home/user/miniconda/envs/py36/lib/python3.6/site-packages (from matplotlib; python_version >= \"3.6\"->livelossplot) (0.10.0)\n",
      "Requirement already satisfied: pyparsing!=2.0.4,!=2.1.2,!=2.1.6,>=2.0.1 in /home/user/miniconda/envs/py36/lib/python3.6/site-packages (from matplotlib; python_version >= \"3.6\"->livelossplot) (2.4.6)\n",
      "Requirement already satisfied: numpy>=1.11 in /home/user/miniconda/envs/py36/lib/python3.6/site-packages (from matplotlib; python_version >= \"3.6\"->livelossplot) (1.18.1)\n",
      "Collecting PyYAML>=3.10\n",
      "  Downloading PyYAML-5.3.1.tar.gz (269 kB)\n",
      "\u001b[K     |################################| 269 kB 10.8 MB/s eta 0:00:01\n",
      "\u001b[?25hRequirement already satisfied: Jinja2>=2.7 in /home/user/miniconda/envs/py36/lib/python3.6/site-packages (from bokeh; python_version >= \"3.6\"->livelossplot) (2.11.1)\n",
      "Requirement already satisfied: pillow>=4.0 in /home/user/miniconda/envs/py36/lib/python3.6/site-packages (from bokeh; python_version >= \"3.6\"->livelossplot) (7.0.0)\n",
      "Collecting packaging>=16.8\n",
      "  Downloading packaging-20.4-py2.py3-none-any.whl (37 kB)\n",
      "Requirement already satisfied: tornado>=5.1 in /home/user/miniconda/envs/py36/lib/python3.6/site-packages (from bokeh; python_version >= \"3.6\"->livelossplot) (6.0.4)\n",
      "Collecting typing_extensions>=3.7.4\n",
      "  Downloading typing_extensions-3.7.4.2-py3-none-any.whl (22 kB)\n",
      "Requirement already satisfied: parso>=0.5.2 in /home/user/miniconda/envs/py36/lib/python3.6/site-packages (from jedi>=0.10->ipython->livelossplot) (0.6.2)\n",
      "Requirement already satisfied: six in /home/user/miniconda/envs/py36/lib/python3.6/site-packages (from traitlets>=4.2->ipython->livelossplot) (1.14.0)\n",
      "Requirement already satisfied: ipython-genutils in /home/user/miniconda/envs/py36/lib/python3.6/site-packages (from traitlets>=4.2->ipython->livelossplot) (0.2.0)\n",
      "Requirement already satisfied: wcwidth in /home/user/miniconda/envs/py36/lib/python3.6/site-packages (from prompt-toolkit!=3.0.0,!=3.0.1,<3.1.0,>=2.0.0->ipython->livelossplot) (0.1.8)\n",
      "Requirement already satisfied: ptyprocess>=0.5 in /home/user/miniconda/envs/py36/lib/python3.6/site-packages (from pexpect; sys_platform != \"win32\"->ipython->livelossplot) (0.6.0)\n",
      "Requirement already satisfied: MarkupSafe>=0.23 in /home/user/miniconda/envs/py36/lib/python3.6/site-packages (from Jinja2>=2.7->bokeh; python_version >= \"3.6\"->livelossplot) (1.1.1)\n",
      "Building wheels for collected packages: bokeh, PyYAML\n",
      "  Building wheel for bokeh (setup.py) ... \u001b[?25ldone\n",
      "\u001b[?25h  Created wheel for bokeh: filename=bokeh-2.1.1-py3-none-any.whl size=9257186 sha256=0e393dd59476125df28833439698b0ff117021e299bc10d17da3c4aa3fb8ab28\n",
      "  Stored in directory: /home/user/.cache/pip/wheels/5a/91/69/b72c84a8ba487df5d7d376c4bcedc9077d14b32511069187e7\n",
      "  Building wheel for PyYAML (setup.py) ... \u001b[?25ldone\n",
      "\u001b[?25h  Created wheel for PyYAML: filename=PyYAML-5.3.1-cp36-cp36m-linux_x86_64.whl size=44621 sha256=90c65223a1e837321c2db22152013cba7433a7f9bc9814e07ec874430688b4b5\n",
      "  Stored in directory: /home/user/.cache/pip/wheels/e5/9d/ad/2ee53cf262cba1ffd8afe1487eef788ea3f260b7e6232a80fc\n",
      "Successfully built bokeh PyYAML\n",
      "Installing collected packages: PyYAML, packaging, typing-extensions, bokeh, livelossplot\n",
      "Successfully installed PyYAML-5.3.1 bokeh-2.1.1 livelossplot-0.5.1 packaging-20.4 typing-extensions-3.7.4.2\n",
      "Collecting tqdm\n",
      "  Downloading tqdm-4.46.1-py2.py3-none-any.whl (63 kB)\n",
      "\u001b[K     |################################| 63 kB 910 kB/s eta 0:00:011\n",
      "\u001b[?25hInstalling collected packages: tqdm\n",
      "Successfully installed tqdm-4.46.1\n"
     ]
    }
   ],
   "source": [
    "!pip install livelossplot\n",
    "!pip install tqdm"
   ]
  },
  {
   "cell_type": "code",
   "execution_count": 4,
   "metadata": {},
   "outputs": [
    {
     "name": "stdout",
     "output_type": "stream",
     "text": [
      "Overwriting open_gns/normalizer.py\n"
     ]
    }
   ],
   "source": [
    "%%writefile open_gns/normalizer.py\n",
    "\n",
    "# Normalizer\n",
    "import torch\n",
    "\n",
    "class Normalizer():\n",
    "    def __init__(self, size, mask_cols=None, device=None):\n",
    "        self.x_sum = torch.zeros(size)\n",
    "        self.x_centered_sum2 = torch.zeros(size)\n",
    "        if device is not None:\n",
    "            self.x_sum = self.x_sum.to(device)\n",
    "            self.x_centered_sum2 = self.x_centered_sum2.to(device)\n",
    "        self.num_particles = 0\n",
    "        self.mask_cols = mask_cols\n",
    "\n",
    "    def __call__(self, x):\n",
    "        self.num_particles += x.size(0)\n",
    "        self.x_sum += torch.sum(x,0)\n",
    "        mean = torch.div(self.x_sum, self.num_particles)\n",
    "        zero_mean = x - mean\n",
    "        self.x_centered_sum2 += torch.sum(torch.pow(zero_mean, 2), 0)\n",
    "        var = torch.div(self.x_centered_sum2, self.num_particles) + 1.0e-10\n",
    "        normalized_x = torch.div(zero_mean, var)\n",
    "        if self.mask_cols is not None:\n",
    "            normalized_x[:,self.mask_cols] = x[:, self.mask_cols]\n",
    "        return normalized_x"
   ]
  },
  {
   "cell_type": "code",
   "execution_count": 2,
   "metadata": {},
   "outputs": [
    {
     "data": {
      "image/png": "[encoded data removed]",
      "text/plain": [
       "<Figure size 864x576 with 1 Axes>"
      ]
     },
     "metadata": {
      "needs_background": "light"
     },
     "output_type": "display_data"
    },
    {
     "name": "stdout",
     "output_type": "stream",
     "text": [
      "log loss\n",
      "\ttraining         \t (min:    0.000, max:    0.000, cur:    0.000)\n",
      "\tvalidation       \t (min:    0.000, max:    0.000, cur:    0.000)\n"
     ]
    }
   ],
   "source": [
    "%autoreload 2\n",
    "# Training loop\n",
    "import torch\n",
    "from torch.optim import Adam\n",
    "from torch.optim.lr_scheduler import ExponentialLR\n",
    "from torch.nn import MSELoss\n",
    "from open_gns.normalizer import Normalizer\n",
    "from open_gns.models import EncodeProcessDecode\n",
    "from open_gns.dataset import GNSDataset\n",
    "from torch_geometric.data import DataLoader\n",
    "from livelossplot import PlotLosses\n",
    "from tqdm import tqdm\n",
    "\n",
    "device = torch.device('cuda' if torch.cuda.is_available() else 'cpu')\n",
    "dataset_train = GNSDataset('./notebooks')\n",
    "dataset_val = GNSDataset('./notebooks', split='validation')\n",
    "dataloaders = {\n",
    "    'train': DataLoader(dataset_train, batch_size=2, shuffle=True),\n",
    "    'validation': DataLoader(dataset_val, batch_size=2, shuffle=False)\n",
    "}\n",
    "input_size = dataset_train.num_node_features\n",
    "model = EncodeProcessDecode(input_size).to(device)\n",
    "\n",
    "optimizer = Adam(model.parameters(), lr=0.001)\n",
    "lr_scheduler = ExponentialLR(optimizer,0.4)\n",
    "mse = MSELoss()\n",
    "liveloss = PlotLosses()\n",
    "\n",
    "for epoch in range(10):\n",
    "    logs = {}\n",
    "    for phase in ['train', 'validation']:\n",
    "        if phase == 'train':\n",
    "            model.train()\n",
    "        else:\n",
    "            model.eval()\n",
    "        running_loss = 0.0\n",
    "        for i, data in enumerate(tqdm(dataloaders[phase])):\n",
    "            data = data.to(device)\n",
    "            y_pred = model(data.x, data.edge_index)\n",
    "            loss = mse(y_pred, data.y)\n",
    "            if phase == 'train':\n",
    "                optimizer.zero_grad()\n",
    "                loss.backward()\n",
    "                optimizer.step()\n",
    "            running_loss += loss.item()*data.num_graphs\n",
    "        # Log epoch loss\n",
    "        epoch_loss = running_loss/len(dataloaders[phase].dataset)\n",
    "        label = 'log loss' if phase == 'train' else 'val_log loss'\n",
    "        logs[label] = epoch_loss\n",
    "        # Save checkpoint\n",
    "        if phase == 'train':\n",
    "            torch.save({\n",
    "            'epoch': epoch,\n",
    "            'model_state_dict': model.state_dict(),\n",
    "            'optimizer_state_dict': optimizer.state_dict(),\n",
    "            'loss': loss,\n",
    "            }, f'checkpoint_{epoch}_{epoch_loss}.pt')\n",
    "    lr_scheduler.step()\n",
    "    liveloss.update(logs)\n",
    "    liveloss.send()\n"
   ]
  }
 ],
 "metadata": {
  "kernelspec": {
   "display_name": "Python 3",
   "language": "python",
   "name": "python3"
  },
  "language_info": {
   "codemirror_mode": {
    "name": "ipython",
    "version": 3
   },
   "file_extension": ".py",
   "mimetype": "text/x-python",
   "name": "python",
   "nbconvert_exporter": "python",
   "pygments_lexer": "ipython3",
   "version": "3.6.5"
  }
 },
 "nbformat": 4,
 "nbformat_minor": 4
}
