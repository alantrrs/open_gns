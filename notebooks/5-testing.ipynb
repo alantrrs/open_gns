{
 "cells": [
  {
   "cell_type": "markdown",
   "metadata": {},
   "source": [
    "# Trying the model\n",
    "\n",
    "## Update mechanism\n",
    "The implementation uses semi-implicit Euler integration to update the next state based on the predicted accelerations:\n",
    "$$\\dot{\\mathbf{p}}^{t+1}=\\dot{\\mathbf{p}}^t+\\Delta t\\cdot \\ddot{\\mathbf{p}}^t $$\n",
    "$$\\mathbf{p}^{t+1}=\\mathbf{p}^t+\\Delta t\\cdot \\dot{\\mathbf{p}}^{t+1}$$\n",
    "where $\\Delta t=1$ for simplicity. \n",
    "\n"
   ]
  },
  {
   "cell_type": "code",
   "execution_count": null,
   "metadata": {},
   "outputs": [],
   "source": [
    "%load_ext autoreload\n",
    "%cd /workspace"
   ]
  },
  {
   "cell_type": "code",
   "execution_count": null,
   "metadata": {},
   "outputs": [],
   "source": [
    "%%writefile open_gns/simulator.py\n",
    "\n",
    "import torch\n",
    "from torch_geometric.data import Data\n",
    "from torch_geometric.transforms import RadiusGraph\n",
    "from open_gns.models import EncodeProcessDecode\n",
    "\n",
    "class Simulator():\n",
    "    def __init__(self, *, positions, properties, velocities=None, device=None, R=0.08):\n",
    "        # initialize the model\n",
    "        self.R = R\n",
    "        self.device = device or torch.device('cuda' if torch.cuda.is_available() else 'cpu')\n",
    "        checkpoint = torch.load('checkpoint_9_7.330730671527333e-07.pt')\n",
    "        input_size = 25\n",
    "        model = EncodeProcessDecode(input_size).to(device)\n",
    "        model.load_state_dict(checkpoint['model_state_dict'])\n",
    "        model.eval()\n",
    "        self.model = model\n",
    "        self.positions = positions.to(device)\n",
    "        self.properties = properties.to(device)\n",
    "        self.velocities = velocities if velocities is not None else torch.zeros((len(positions), 5*3))\n",
    "        self.velocities = self.velocities.to(device)\n",
    "        self.data = self.make_graph(positions, properties, self.velocities)\n",
    "\n",
    "    \n",
    "    def make_graph(self, positions, properties, velocities):\n",
    "        d = torch.stack([\n",
    "            positions[:,1],       # bottom\n",
    "            positions[:,0],       # left\n",
    "            positions[:,2],        # back\n",
    "            1.2 - positions[:,0], # right\n",
    "            0.4 - positions[:,2]   # front\n",
    "        ], dim=1)\n",
    "        d = torch.clamp(d, min=0, max=self.R)   \n",
    "        x = torch.cat([positions, properties, velocities, d], 1)\n",
    "        data = Data(x=x, pos=positions)\n",
    "        find_edges = RadiusGraph(self.R)\n",
    "        data = find_edges(data)\n",
    "        return data\n",
    "    \n",
    "    def step(self, pos=None):\n",
    "        # Predict accelerations\n",
    "        data = self.data\n",
    "        if pos is not None:\n",
    "            data.x[:,:3] = pos\n",
    "            data.pos = pos\n",
    "        accelerations_ = self.model(data.x, data.edge_index)\n",
    "        velocities_ = data.x[:,17:20] + accelerations_ \n",
    "        positions_ = data.pos + velocities_\n",
    "        print('p_t:', data.x[0], data.pos[0])\n",
    "        print('a_t:', accelerations_[0])\n",
    "        print('v_t:', data.x[0,17:20])\n",
    "        print('v_t+1',velocities_[0])\n",
    "        print('p_t+1', positions_[0])\n",
    "        # Reconstruct data for next frame\n",
    "        self.velocities = torch.cat([self.velocities[:,3:], velocities_], 1)\n",
    "        self.data = self.make_graph(positions_, self.properties, self.velocities)\n",
    "        return positions_, velocities_, accelerations_"
   ]
  },
  {
   "cell_type": "code",
   "execution_count": null,
   "metadata": {},
   "outputs": [],
   "source": [
    "# load\n",
    "%autoreload 2\n",
    "import torch\n",
    "from open_gns.dataset import GNSDataset\n",
    "from torch.nn import MSELoss\n",
    "from open_gns.simulator import Simulator\n",
    "\n",
    "mse = MSELoss()\n",
    "device = torch.device('cuda' if torch.cuda.is_available() else 'cpu')\n",
    "# Load dataset\n",
    "dataset = GNSDataset('./notebooks', split='test')\n",
    "# Perform rollout using the simulator\n",
    "rollout = dataset[0:143]\n",
    "data = rollout[0]\n",
    "data = data.to(device)\n",
    "v = data.x[:,5:20]\n",
    "sim = Simulator(positions=data.pos, velocities=v, properties=data.x[:,3:5], device=device)\n",
    "assert torch.all(sim.data.edge_index == data.edge_index)\n",
    "assert torch.all(sim.data.pos == data.pos)\n",
    "positions = []\n",
    "accelerations = []\n",
    "velocities = []\n",
    "acc_gt = []\n",
    "pos_gt = []\n",
    "vel_gt = []\n",
    "for i, data in enumerate(rollout[1:]):\n",
    "    pos_gt.append(data.pos)\n",
    "    acc_gt.append(data.y)\n",
    "    vel_gt.append(data.x[:,17:20])\n",
    "    data = data.to(device)\n",
    "    # Predict\n",
    "    pos, vel, acc = sim.step()\n",
    "    positions.append(pos.detach().cpu())\n",
    "    accelerations.append(acc.detach().cpu())\n",
    "    velocities.append(vel.detach().cpu())\n",
    "    # Compare against dataset\n",
    "    loss = mse(acc,data.y)\n",
    "    print(loss.item())\n",
    "    "
   ]
  },
  {
   "cell_type": "code",
   "execution_count": null,
   "metadata": {},
   "outputs": [],
   "source": [
    "for p in sim.model.parameters():\n",
    "    print(p.data.size())\n",
    "print(sim.model)"
   ]
  },
  {
   "cell_type": "code",
   "execution_count": null,
   "metadata": {},
   "outputs": [],
   "source": [
    "%autoreload 2\n",
    "from open_gns.utils import animate_rollout, animate_rollout_quiver\n",
    "\n",
    "animate_rollout_quiver(positions, velocities)\n",
    "animate_rollout_quiver(pos_gt, vel_gt)"
   ]
  },
  {
   "cell_type": "code",
   "execution_count": null,
   "metadata": {},
   "outputs": [],
   "source": [
    "%autoreload 2\n",
    "import torch\n",
    "print(torch)\n",
    "print(torch.__version__)\n",
    "print(data.edge_index.size())\n",
    "for i in range(data.edge_index.size(1)):\n",
    "    a,b = data.edge_index[:,i]\n",
    "    print(f'({a})[{data.pos[a]}] -> ({b})[{data.pos[b]}]')\n",
    "    print(torch.sum(torch.pow(data.pos[a] - data.pos[b], 2))/3.0)"
   ]
  }
 ],
 "metadata": {
  "kernelspec": {
   "display_name": "Python 3",
   "language": "python",
   "name": "python3"
  },
  "language_info": {
   "codemirror_mode": {
    "name": "ipython",
    "version": 3
   },
   "file_extension": ".py",
   "mimetype": "text/x-python",
   "name": "python",
   "nbconvert_exporter": "python",
   "pygments_lexer": "ipython3",
   "version": "3.6.5"
  }
 },
 "nbformat": 4,
 "nbformat_minor": 4
}
