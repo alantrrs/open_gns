{
 "cells": [
  {
   "cell_type": "markdown",
   "metadata": {},
   "source": [
    "# Trying the model\n",
    "\n",
    "## Update mechanism\n",
    "The implementation uses semi-implicit Euler integration to update the next state based on the predicted accelerations:\n",
    "$$\\dot{\\mathbf{p}}^{t+1}=\\dot{\\mathbf{p}}^t+\\Delta t\\cdot \\ddot{\\mathbf{p}}^t $$\n",
    "$$\\mathbf{p}^{t+1}=\\mathbf{p}^t+\\Delta t\\cdot \\dot{\\mathbf{p}}^{t+1}$$\n",
    "where $\\Delta t=1$ for simplicity. \n",
    "\n"
   ]
  },
  {
   "cell_type": "code",
   "execution_count": 2,
   "metadata": {},
   "outputs": [
    {
     "name": "stdout",
     "output_type": "stream",
     "text": [
      "/workspace\n"
     ]
    }
   ],
   "source": [
    "%cd .."
   ]
  },
  {
   "cell_type": "code",
   "execution_count": 7,
   "metadata": {},
   "outputs": [
    {
     "name": "stdout",
     "output_type": "stream",
     "text": [
      "20\n",
      "tensor([[-0.1994,  0.0505,  0.1563],\n",
      "        [-0.1995,  0.0507,  0.1567],\n",
      "        [-0.1996,  0.0510,  0.1572],\n",
      "        ...,\n",
      "        [-0.1964,  0.0466,  0.1634],\n",
      "        [-0.1960,  0.0461,  0.1632],\n",
      "        [-0.1954,  0.0453,  0.1630]], device='cuda:0', grad_fn=<AddmmBackward>)\n"
     ]
    }
   ],
   "source": [
    "# load\n",
    "import torch\n",
    "from open_gns.models import EncodeProcessDecode\n",
    "from open_gns.dataset import GNSDataset\n",
    "\n",
    "device = torch.device('cuda' if torch.cuda.is_available() else 'cpu')\n",
    "# Load data sample (1 frame)\n",
    "dataset = GNSDataset('./notebooks', split='test')\n",
    "input_size = dataset.num_node_features\n",
    "print(input_size)\n",
    "# Load model\n",
    "checkpoint = torch.load('checkpoint_1_5.916705061520588e-06.pt')\n",
    "model = EncodeProcessDecode(input_size).to(device)\n",
    "model.load_state_dict(checkpoint['model_state_dict'])\n",
    "\n",
    "# Perform rollout using the model\n",
    "rollout = dataset[0:144]\n",
    "\n",
    "for data in rollout:\n",
    "    data = data.to(device)\n",
    "    # Predict accelerations\n",
    "    accelerations_ = model(data.x, data.edge_index)\n",
    "    positions_ = data.pos + data.x[:,-1] + accelerations_\n",
    "    # TODO: Display every frame to visually verify\n",
    "    # TODO: Reconstruct data for next frame\n"
   ]
  }
 ],
 "metadata": {
  "kernelspec": {
   "display_name": "Python 3",
   "language": "python",
   "name": "python3"
  },
  "language_info": {
   "codemirror_mode": {
    "name": "ipython",
    "version": 3
   },
   "file_extension": ".py",
   "mimetype": "text/x-python",
   "name": "python",
   "nbconvert_exporter": "python",
   "pygments_lexer": "ipython3",
   "version": "3.6.5"
  }
 },
 "nbformat": 4,
 "nbformat_minor": 4
}
