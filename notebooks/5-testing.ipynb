{
 "cells": [
  {
   "cell_type": "markdown",
   "metadata": {},
   "source": [
    "# Trying the model\n",
    "\n",
    "## Update mechanism\n",
    "The implementation uses semi-implicit Euler integration to update the next state based on the predicted accelerations:\n",
    "$$\\dot{\\mathbf{p}}^{t+1}=\\dot{\\mathbf{p}}^t+\\Delta t\\cdot \\ddot{\\mathbf{p}}^t $$\n",
    "$$\\mathbf{p}^{t+1}=\\mathbf{p}^t+\\Delta t\\cdot \\dot{\\mathbf{p}}^{t+1}$$\n",
    "where $\\Delta t=1$ for simplicity. \n",
    "\n"
   ]
  },
  {
   "cell_type": "code",
   "execution_count": null,
   "metadata": {},
   "outputs": [],
   "source": [
    "%load_ext autoreload\n",
    "%cd .."
   ]
  },
  {
   "cell_type": "code",
   "execution_count": null,
   "metadata": {},
   "outputs": [],
   "source": [
    "%%writefile open_gns/simulator.py\n",
    "\n",
    "from torch_geometric.data import Data\n",
    "from torch_geometric.transforms import RadiusGraph\n",
    "from open_gns.models import EncodeProcessDecode\n",
    "\n",
    "class Simulator():\n",
    "    def __init__(self, *, positions, properties, velocities=None, device=None, R=0.08):\n",
    "        # initialize the model\n",
    "        self.device = device or torch.device('cuda' if torch.cuda.is_available() else 'cpu')\n",
    "        checkpoint = torch.load('checkpoint_1_5.916705061520588e-06.pt')\n",
    "        input_size=20\n",
    "        model = EncodeProcessDecode(input_size).to(device)\n",
    "        model.load_state_dict(checkpoint['model_state_dict'])\n",
    "        model.eval()\n",
    "        self.find_edges = RadiusGraph(R)\n",
    "        self.model = model\n",
    "        self.positions = positions.to(device)\n",
    "        self.properties = properties.to(device)\n",
    "        self.velocities = velocities if velocities is not None else torch.zeros((len(positions), 5*3))\n",
    "        self.velocities = self.velocities.to(device)\n",
    "        self.data = self.make_graph(positions, properties, self.velocities)\n",
    "\n",
    "    \n",
    "    def make_graph(self, positions, properties, velocities):\n",
    "        x = torch.cat([positions, properties, velocities], 1)\n",
    "        data = Data(x=x, pos=positions)\n",
    "        data = self.find_edges(data)\n",
    "        return data\n",
    "    \n",
    "    def step(self):\n",
    "        # Predict accelerations\n",
    "        data = self.data\n",
    "        accelerations_ = self.model(data.x, data.edge_index)\n",
    "        velocities_ = data.x[:,-3:] + accelerations_\n",
    "        print(velocities_[0])\n",
    "        positions_ = data.pos + velocities_\n",
    "        # Reconstruct data for next frame\n",
    "        self.velocities = torch.cat([self.velocities[:,3:], velocities_], 1)\n",
    "        self.data = self.make_graph(positions_, self.properties, self.velocities)\n",
    "        return positions_, velocities_, accelerations_"
   ]
  },
  {
   "cell_type": "code",
   "execution_count": null,
   "metadata": {},
   "outputs": [],
   "source": [
    "# load\n",
    "%autoreload 2\n",
    "import torch\n",
    "from open_gns.dataset import GNSDataset\n",
    "from torch.nn import MSELoss\n",
    "from open_gns.utils import animate_rollout\n",
    "\n",
    "mse = MSELoss()\n",
    "device = torch.device('cuda' if torch.cuda.is_available() else 'cpu')\n",
    "# Load dataset\n",
    "dataset = GNSDataset('./notebooks', split='test')\n",
    "# Perform rollout using the simulator\n",
    "rollout = dataset[0:143]\n",
    "data = rollout[0]\n",
    "data = data.to(device)\n",
    "v = data.x[:,-15:]\n",
    "print(v.size())\n",
    "sim = Simulator(positions=data.pos, velocities=v, properties=data.x[:,3:5], device=device)\n",
    "positions = []\n",
    "pos_gt = []\n",
    "for i, data in enumerate(rollout[1:]):\n",
    "    pos_gt.append(data.pos)\n",
    "    data = data.to(device)\n",
    "    # Predict\n",
    "    pos, vel, acc = sim.step()\n",
    "    positions.append(pos.detach().cpu())\n",
    "    # Compare against dataset\n",
    "    loss = mse(acc,data.y)\n",
    "    print(i, pos[0])\n",
    "    print(i, data.pos[0])\n",
    "    print(loss.item())\n",
    "\n",
    "animate_rollout(positions)\n",
    "animate_rollout(pos_gt)"
   ]
  },
  {
   "cell_type": "code",
   "execution_count": null,
   "metadata": {},
   "outputs": [],
   "source": [
    "print(positions)"
   ]
  }
 ],
 "metadata": {
  "kernelspec": {
   "display_name": "Python 3",
   "language": "python",
   "name": "python3"
  },
  "language_info": {
   "codemirror_mode": {
    "name": "ipython",
    "version": 3
   },
   "file_extension": ".py",
   "mimetype": "text/x-python",
   "name": "python",
   "nbconvert_exporter": "python",
   "pygments_lexer": "ipython3",
   "version": "3.6.5"
  }
 },
 "nbformat": 4,
 "nbformat_minor": 4
}
