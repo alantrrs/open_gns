{
 "cells": [
  {
   "cell_type": "markdown",
   "metadata": {},
   "source": [
    "# Input and output representations\n",
    "## Inputs\n",
    "Each particle's input state vector represents:\n",
    "- Position, $p_i^{t}$\n",
    "- A sequence of $C=5$ previous velocities. The velocity is calculated from the difference in position between consecutive time steps: $\\dot{p}^t=p^t-p^{t-1}$\n",
    "- Features that capture the static material properties (e.g. water, sand, rigid, etc..). The material is expressed as a particle feature, $a_i$, represented with a learned embedding vector of size 16.\n",
    "- The global properties of the system, $g$, include external forces and global material properties.\n",
    "- For datasets with fixed flat orthogonal walls, instead of adding boundary particles, a feature is added to each node indicating the vector distance to each wall, $d^{t}_i$. To maintain spatial transalation invariance, this distance is clipped to the connectivity radius $R$, achieving a similar effect to that of the boundary particles.\n",
    "\n",
    "The particle feature tensor looks as follows:\n",
    "$$x^{t}_i = [p^{t}_i,\\dot{p}^{t-C+1}_i,...,\\dot{p}^{t}_i,a_i, g, d^{t}_i]$$\n",
    "\n",
    "\n",
    "## Outputs\n",
    "The prediction targets for supervised learning are the per-particle average acceleration, $$\\ddot{p}^t_i=\\dot{p}^{t+1}-\\dot{p}^t=p^{t+1}-2p^{t}+p^{t-1}$$\n",
    "\n",
    "\n",
    "## Normalization\n",
    "...TODO...\n",
    "\n",
    "## Noise\n",
    "...TODO...\n",
    "\n"
   ]
  },
  {
   "cell_type": "code",
   "execution_count": 16,
   "metadata": {},
   "outputs": [
    {
     "name": "stdout",
     "output_type": "stream",
     "text": [
      "Overwriting ../open_gns/dataset.py\n"
     ]
    }
   ],
   "source": [
    "%%writefile ../open_gns/dataset.py\n",
    "\n",
    "import numpy as np\n",
    "import h5py\n",
    "import torch\n",
    "from torch_geometric.data import InMemoryDataset, Data\n",
    "from torch_geometric.transforms import RadiusGraph\n",
    "\n",
    "R=0.08 # Connectivity radius $R$\n",
    "\n",
    "class GNSDataset(InMemoryDataset):\n",
    "    def __init__(self, root, transform=None, pre_transform=None):\n",
    "        super(GNSDataset, self).__init__(root, transform, pre_transform)\n",
    "        self.data, self.slices = torch.load(self.processed_paths[0])\n",
    "        \n",
    "    @property\n",
    "    def raw_file_names(self):\n",
    "        return ['box_bath.hdf5']\n",
    "    \n",
    "    @property\n",
    "    def processed_file_names(self):\n",
    "        return ['box_bath_samples.pt']\n",
    "    \n",
    "    def process(self):\n",
    "        # TODO: Split into train, test, val\n",
    "        data_list = []\n",
    "        # Read all positions & transform into features\n",
    "        f = h5py.File(self.raw_file_names[0],'r')\n",
    "        for k in range(1): # TODO: f.get('rollouts').keys():\n",
    "            # Read positions\n",
    "            positions = np.array(f.get(f'rollouts/{k}/positions'))\n",
    "            num_steps = len(positions)\n",
    "            # Calculate velocities\n",
    "            velocities = np.concatenate(([np.zeros(positions[0].shape)],\n",
    "                                        positions[1:] - positions[0:-1]),axis=0)\n",
    "            # Calculate accelerations\n",
    "            accelerations = np.concatenate(([np.zeros(velocities[0].shape)],\n",
    "                                        velocities[1:] - velocities[0:-1]),axis=0)\n",
    "            # Material properties (using one-hot encoding for now)\n",
    "            m = np.zeros((len(positions[0]), 2))\n",
    "            m[0:64] = [0,1] # First 64 particles are solid\n",
    "            m[64:] = [1,0]\n",
    "            # TODO: Global forces\n",
    "            # TODO: Distance to walls\n",
    "            # Drop the first 5 and the last step since we don't have accurate velocities/accelerations\n",
    "            for t in range(6,num_steps-1):\n",
    "                x = np.concatenate((positions[t], m, np.concatenate(velocities[t-5:t], axis=1)), axis=1)\n",
    "                y = torch.tensor(accelerations[t]).float()\n",
    "                data = Data(x=torch.tensor(x).float(), y=y, pos=torch.as_tensor(positions[t]))\n",
    "                # Apply pre-transform to get edges\n",
    "                calculate_edges = self.pre_transform or RadiusGraph(R)\n",
    "                data = calculate_edges(data)\n",
    "                data_list.append(data)\n",
    "        torch.save(self.collate(data_list), self.processed_paths[0])\n",
    "    \n"
   ]
  },
  {
   "cell_type": "code",
   "execution_count": 17,
   "metadata": {},
   "outputs": [
    {
     "name": "stdout",
     "output_type": "stream",
     "text": [
      "Processing...\n",
      "Done!\n",
      "143 0 20\n",
      "Data(edge_index=[2, 15440], pos=[1024, 3], x=[1024, 20], y=[1024, 3])\n"
     ]
    }
   ],
   "source": [
    "dataset = GNSDataset('.')\n",
    "print(len(dataset), dataset.num_edge_features, dataset.num_node_features)\n",
    "print(dataset[0])"
   ]
  }
 ],
 "metadata": {
  "kernelspec": {
   "display_name": "Python 3",
   "language": "python",
   "name": "python3"
  },
  "language_info": {
   "codemirror_mode": {
    "name": "ipython",
    "version": 3
   },
   "file_extension": ".py",
   "mimetype": "text/x-python",
   "name": "python",
   "nbconvert_exporter": "python",
   "pygments_lexer": "ipython3",
   "version": "3.6.5"
  }
 },
 "nbformat": 4,
 "nbformat_minor": 4
}
